{
 "cells": [
  {
   "cell_type": "markdown",
   "id": "4d4b7dee-b548-47c2-9f7d-8d9694a34419",
   "metadata": {},
   "source": [
    "# Operatrion on list"
   ]
  },
  {
   "cell_type": "markdown",
   "id": "958553b6-e609-47d3-946f-e02d71a6f536",
   "metadata": {},
   "source": [
    "#### Create a list"
   ]
  },
  {
   "cell_type": "code",
   "execution_count": 2,
   "id": "3644bad3-5adc-44b2-a56f-8d3bbd449f13",
   "metadata": {},
   "outputs": [
    {
     "name": "stdout",
     "output_type": "stream",
     "text": [
      "List: ['apple', 'banana', 'cherry']\n"
     ]
    }
   ],
   "source": [
    "fruits = [\"apple\", \"banana\", \"cherry\"]\n",
    "print(\"List:\", fruits)"
   ]
  },
  {
   "cell_type": "markdown",
   "id": "cca7bef4-6726-4495-8d80-9dc62537bf5e",
   "metadata": {},
   "source": [
    "#### Append an Element"
   ]
  },
  {
   "cell_type": "code",
   "execution_count": 3,
   "id": "f3ed7583-a85f-4b94-a725-55c3cd9c97ec",
   "metadata": {},
   "outputs": [
    {
     "name": "stdout",
     "output_type": "stream",
     "text": [
      "After Append: [5, 10, 15, 20]\n"
     ]
    }
   ],
   "source": [
    "numbers = [5, 10, 15]\n",
    "numbers.append(20)\n",
    "print(\"After Append:\", numbers)"
   ]
  },
  {
   "cell_type": "markdown",
   "id": "ffeae611-8b84-4b3a-9a0a-d9f5d43772f4",
   "metadata": {},
   "source": [
    "#### Insert an Element"
   ]
  },
  {
   "cell_type": "code",
   "execution_count": 6,
   "id": "1380e1a1-8b76-49b4-9258-e95757995096",
   "metadata": {},
   "outputs": [
    {
     "name": "stdout",
     "output_type": "stream",
     "text": [
      "After Insert: ['red', 'yellow', 'blue', 'green']\n"
     ]
    }
   ],
   "source": [
    "colors = [\"red\", \"blue\", \"green\"]\n",
    "colors.insert(1, \"yellow\")   \n",
    "print(\"After Insert:\", colors)"
   ]
  },
  {
   "cell_type": "markdown",
   "id": "e7bc0cf5-45fc-4674-8562-3109de03ce9a",
   "metadata": {},
   "source": [
    "#### Remove an Element"
   ]
  },
  {
   "cell_type": "code",
   "execution_count": 7,
   "id": "67ed91da-f8f0-4417-9e61-9efe31b71449",
   "metadata": {},
   "outputs": [
    {
     "name": "stdout",
     "output_type": "stream",
     "text": [
      "After Remove: ['cat', 'dog', 'tiger']\n"
     ]
    }
   ],
   "source": [
    "animals = [\"cat\", \"dog\", \"lion\", \"tiger\"]\n",
    "animals.remove(\"lion\")   \n",
    "print(\"After Remove:\", animals)"
   ]
  },
  {
   "cell_type": "markdown",
   "id": "a1d6e3da-a51e-493a-9f86-65e474dad505",
   "metadata": {},
   "source": [
    "####  Reverse the List"
   ]
  },
  {
   "cell_type": "code",
   "execution_count": 8,
   "id": "b0e52445-f292-4c94-ba3f-58a86082815f",
   "metadata": {},
   "outputs": [
    {
     "name": "stdout",
     "output_type": "stream",
     "text": [
      "After Reverse: ['e', 'd', 'c', 'b', 'a']\n"
     ]
    }
   ],
   "source": [
    "letters = [\"a\", \"b\", \"c\", \"d\", \"e\"]\n",
    "letters.reverse()\n",
    "print(\"After Reverse:\", letters)"
   ]
  },
  {
   "cell_type": "markdown",
   "id": "c0811c41-5599-4c8f-9f07-7ba1507f869b",
   "metadata": {},
   "source": [
    "# Operation on tuple"
   ]
  },
  {
   "cell_type": "markdown",
   "id": "4d130ba8-076a-4ba9-a67a-b959a3836f83",
   "metadata": {},
   "source": [
    "#### Create a Tuple"
   ]
  },
  {
   "cell_type": "code",
   "execution_count": 12,
   "id": "e5ff2bb2-f01f-4742-81f9-bcffc26a1482",
   "metadata": {},
   "outputs": [
    {
     "name": "stdout",
     "output_type": "stream",
     "text": [
      "Tuple: ('apple', 'banana', 'cherry')\n"
     ]
    }
   ],
   "source": [
    "fruits = (\"apple\", \"banana\", \"cherry\")\n",
    "print(\"Tuple:\", fruits)"
   ]
  },
  {
   "cell_type": "markdown",
   "id": "bf38effd-2274-4de1-ac8b-5f3e2db237c5",
   "metadata": {},
   "source": [
    "#### Access an Element"
   ]
  },
  {
   "cell_type": "code",
   "execution_count": 14,
   "id": "70749f12-9bd9-47fc-8bde-cccdf0d26ec7",
   "metadata": {},
   "outputs": [
    {
     "name": "stdout",
     "output_type": "stream",
     "text": [
      "Second Element: 10\n"
     ]
    }
   ],
   "source": [
    "numbers = (5, 10, 15, 20)\n",
    "print(\"Second Element:\", numbers[1])"
   ]
  },
  {
   "cell_type": "markdown",
   "id": "52cd464c-3a6c-4b94-afbd-ab233abcacf6",
   "metadata": {},
   "source": [
    "#### Slicing a Tuple"
   ]
  },
  {
   "cell_type": "code",
   "execution_count": 16,
   "id": "8da80d77-45e8-49ef-8b42-26fa17de0872",
   "metadata": {},
   "outputs": [
    {
     "name": "stdout",
     "output_type": "stream",
     "text": [
      "Sliced Tuple: ('blue', 'green', 'yellow')\n"
     ]
    }
   ],
   "source": [
    "colors = (\"red\", \"blue\", \"green\", \"yellow\", \"black\")\n",
    "print(\"Sliced Tuple:\", colors[1:4])"
   ]
  },
  {
   "cell_type": "markdown",
   "id": "e767a3ad-c35e-45c5-a529-d18a9318f716",
   "metadata": {},
   "source": [
    "#### Count an Element"
   ]
  },
  {
   "cell_type": "code",
   "execution_count": 18,
   "id": "9ecffd30-b4d8-483b-8f95-6c0e3f0de515",
   "metadata": {},
   "outputs": [
    {
     "name": "stdout",
     "output_type": "stream",
     "text": [
      "Count of 'dog': 3\n"
     ]
    }
   ],
   "source": [
    "animals = (\"dog\", \"cat\", \"dog\", \"lion\", \"dog\")\n",
    "print(\"Count of 'dog':\", animals.count(\"dog\"))"
   ]
  },
  {
   "cell_type": "markdown",
   "id": "64a5e27d-ce23-4fa9-9005-2ed96d71ba72",
   "metadata": {},
   "source": [
    "#### Find Index of an Element"
   ]
  },
  {
   "cell_type": "code",
   "execution_count": 20,
   "id": "3caa154d-ee37-4515-b400-7c0dfbcce60d",
   "metadata": {},
   "outputs": [
    {
     "name": "stdout",
     "output_type": "stream",
     "text": [
      "Index of 'c': 2\n"
     ]
    }
   ],
   "source": [
    "letters = (\"a\", \"b\", \"c\", \"d\", \"e\")\n",
    "print(\"Index of 'c':\", letters.index(\"c\"))"
   ]
  },
  {
   "cell_type": "markdown",
   "id": "5abf7318-6cea-489b-9f2a-0fb5b5c06bb0",
   "metadata": {},
   "source": [
    "# Operation on set"
   ]
  },
  {
   "cell_type": "markdown",
   "id": "43c0b08d-6d9f-4d38-83f8-6990f1390e98",
   "metadata": {},
   "source": [
    "####  Create a Set"
   ]
  },
  {
   "cell_type": "code",
   "execution_count": 24,
   "id": "9ac207a8-3023-4053-a546-37891ee5a8b1",
   "metadata": {},
   "outputs": [
    {
     "name": "stdout",
     "output_type": "stream",
     "text": [
      "Set: {'cherry', 'apple', 'banana'}\n"
     ]
    }
   ],
   "source": [
    "fruits = {\"apple\", \"banana\", \"cherry\"}\n",
    "print(\"Set:\", fruits)"
   ]
  },
  {
   "cell_type": "markdown",
   "id": "cb05f3a5-d8a1-49b3-a39f-88530729f060",
   "metadata": {},
   "source": [
    "#### Add an Element"
   ]
  },
  {
   "cell_type": "code",
   "execution_count": 26,
   "id": "f97b71b4-5840-48dd-9ba2-b4066bc4ff7c",
   "metadata": {},
   "outputs": [
    {
     "name": "stdout",
     "output_type": "stream",
     "text": [
      "After Add: {40, 10, 20, 30}\n"
     ]
    }
   ],
   "source": [
    "numbers = {10, 20, 30}\n",
    "numbers.add(40)\n",
    "print(\"After Add:\", numbers)"
   ]
  },
  {
   "cell_type": "markdown",
   "id": "79935364-5465-4864-aa1f-8b20748d9942",
   "metadata": {},
   "source": [
    "#### Remove an Element"
   ]
  },
  {
   "cell_type": "code",
   "execution_count": 28,
   "id": "b611cfa4-f871-4a70-ae5b-dc0266ad63b6",
   "metadata": {},
   "outputs": [
    {
     "name": "stdout",
     "output_type": "stream",
     "text": [
      "After Remove: {'yellow', 'green', 'red'}\n"
     ]
    }
   ],
   "source": [
    "colors = {\"red\", \"blue\", \"green\", \"yellow\"}\n",
    "colors.remove(\"blue\")\n",
    "print(\"After Remove:\", colors)"
   ]
  },
  {
   "cell_type": "markdown",
   "id": "048ed880-0fa5-49b9-9c8b-04b461db1c31",
   "metadata": {},
   "source": [
    "####  Union of Two Sets"
   ]
  },
  {
   "cell_type": "code",
   "execution_count": 30,
   "id": "8edd94c8-fda8-409b-99e6-3c4336283063",
   "metadata": {},
   "outputs": [
    {
     "name": "stdout",
     "output_type": "stream",
     "text": [
      "Union: {'lion', 'cat', 'dog', 'tiger'}\n"
     ]
    }
   ],
   "source": [
    "set1 = {\"cat\", \"dog\"}\n",
    "set2 = {\"lion\", \"tiger\"}\n",
    "result = set1.union(set2)\n",
    "print(\"Union:\", result)"
   ]
  },
  {
   "cell_type": "markdown",
   "id": "b5da18b1-903f-473d-b316-e63bd6d667b4",
   "metadata": {},
   "source": [
    "#### Intersection of Two Sets"
   ]
  },
  {
   "cell_type": "code",
   "execution_count": 32,
   "id": "4d67b159-7800-4525-98ca-11c099bc6d2f",
   "metadata": {},
   "outputs": [
    {
     "name": "stdout",
     "output_type": "stream",
     "text": [
      "Intersection: {3, 4}\n"
     ]
    }
   ],
   "source": [
    "set1 = {1, 2, 3, 4}\n",
    "set2 = {3, 4, 5, 6}\n",
    "result = set1.intersection(set2)\n",
    "print(\"Intersection:\", result)"
   ]
  },
  {
   "cell_type": "markdown",
   "id": "2436c232-98c0-48ac-b8d1-918f35136ef8",
   "metadata": {},
   "source": [
    "# Operation on dictionary "
   ]
  },
  {
   "cell_type": "markdown",
   "id": "1ef98bfe-ad96-40d6-aa20-4108aad65987",
   "metadata": {},
   "source": [
    "#### Create a Dictionary"
   ]
  },
  {
   "cell_type": "code",
   "execution_count": 36,
   "id": "1a37e62f-3b7b-4256-9a14-4e8bfb837c02",
   "metadata": {},
   "outputs": [
    {
     "name": "stdout",
     "output_type": "stream",
     "text": [
      "Dictionary: {'name': 'Keerthika', 'age': 19, 'course': 'CSE'}\n"
     ]
    }
   ],
   "source": [
    "student = {\"name\": \"Keerthika\", \"age\": 19, \"course\": \"CSE\"}\n",
    "print(\"Dictionary:\", student)"
   ]
  },
  {
   "cell_type": "markdown",
   "id": "f88ead4e-d7f1-482e-8923-744d2650356e",
   "metadata": {},
   "source": [
    "#### Add a New Key-Value Pair"
   ]
  },
  {
   "cell_type": "code",
   "execution_count": 38,
   "id": "44c06847-ff99-403f-a580-2fb9427f9b81",
   "metadata": {},
   "outputs": [
    {
     "name": "stdout",
     "output_type": "stream",
     "text": [
      "After Adding Key-Value: {'math': 85, 'science': 90, 'english': 88}\n"
     ]
    }
   ],
   "source": [
    "marks = {\"math\": 85, \"science\": 90}\n",
    "marks[\"english\"] = 88\n",
    "print(\"After Adding Key-Value:\", marks)"
   ]
  },
  {
   "cell_type": "markdown",
   "id": "617ef60c-fddc-4a7b-b54a-70b05308d0c2",
   "metadata": {},
   "source": [
    "####  Update a Value"
   ]
  },
  {
   "cell_type": "code",
   "execution_count": 44,
   "id": "89af4f04-538c-4e94-b122-2f86fb2cb38a",
   "metadata": {},
   "outputs": [
    {
     "name": "stdout",
     "output_type": "stream",
     "text": [
      "After Update: {'id': 101, 'name': 'supriya', 'salary': 35000}\n"
     ]
    }
   ],
   "source": [
    "employee = {\"id\": 101, \"name\": \"supriya\", \"salary\": 30000}\n",
    "employee[\"salary\"] = 35000\n",
    "print(\"After Update:\", employee)"
   ]
  },
  {
   "cell_type": "markdown",
   "id": "72ec9a1a-d9ba-4e3d-a830-9aeb409ff760",
   "metadata": {},
   "source": [
    "#### Remove a Key-Value Pair"
   ]
  },
  {
   "cell_type": "code",
   "execution_count": 43,
   "id": "8355a7f4-8dcb-47a1-b296-d67a34da9388",
   "metadata": {},
   "outputs": [
    {
     "name": "stdout",
     "output_type": "stream",
     "text": [
      "After Remove: {'brand': 'Tesla', 'model': 'Model S'}\n"
     ]
    }
   ],
   "source": [
    "car = {\"brand\": \"Tesla\", \"model\": \"Model S\", \"year\": 2024}\n",
    "car.pop(\"year\")\n",
    "print(\"After Remove:\", car)"
   ]
  },
  {
   "cell_type": "markdown",
   "id": "bb8790e5-6514-4256-b369-08163cca26d7",
   "metadata": {},
   "source": [
    "#### Get Keys and Values"
   ]
  },
  {
   "cell_type": "code",
   "execution_count": 46,
   "id": "1917c15b-232d-4c55-bf7b-9477a6a6bbaf",
   "metadata": {},
   "outputs": [
    {
     "name": "stdout",
     "output_type": "stream",
     "text": [
      "Keys: dict_keys(['title', 'author', 'price'])\n",
      "Values: dict_values(['Python Basics', 'Guido', 450])\n"
     ]
    }
   ],
   "source": [
    "book = {\"title\": \"Python Basics\", \"author\": \"Guido\", \"price\": 450}\n",
    "print(\"Keys:\", book.keys())\n",
    "print(\"Values:\", book.values())"
   ]
  },
  {
   "cell_type": "code",
   "execution_count": null,
   "id": "815cdf11-176d-4b98-b2f3-535735d9c0dc",
   "metadata": {},
   "outputs": [],
   "source": []
  }
 ],
 "metadata": {
  "kernelspec": {
   "display_name": "Python 3 (ipykernel)",
   "language": "python",
   "name": "python3"
  },
  "language_info": {
   "codemirror_mode": {
    "name": "ipython",
    "version": 3
   },
   "file_extension": ".py",
   "mimetype": "text/x-python",
   "name": "python",
   "nbconvert_exporter": "python",
   "pygments_lexer": "ipython3",
   "version": "3.13.5"
  }
 },
 "nbformat": 4,
 "nbformat_minor": 5
}
